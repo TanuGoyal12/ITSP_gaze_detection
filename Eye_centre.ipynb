{
 "cells": [
  {
   "cell_type": "code",
   "execution_count": 18,
   "metadata": {},
   "outputs": [],
   "source": [
    "import numpy as np\n",
    "from numpy import genfromtxt"
   ]
  },
  {
   "cell_type": "code",
   "execution_count": 19,
   "metadata": {},
   "outputs": [],
   "source": [
    "file_path_train = '/home/shrey/Desktop/eye_centre/eye_data/data/m_data.txt'\n",
    "data = genfromtxt(file_path_train,delimiter=',')"
   ]
  },
  {
   "cell_type": "code",
   "execution_count": 20,
   "metadata": {
    "scrolled": true
   },
   "outputs": [
    {
     "data": {
      "text/plain": [
       "(49, 4)"
      ]
     },
     "execution_count": 20,
     "metadata": {},
     "output_type": "execute_result"
    }
   ],
   "source": [
    "data.shape"
   ]
  },
  {
   "cell_type": "code",
   "execution_count": 21,
   "metadata": {},
   "outputs": [],
   "source": [
    "# the first column of data represents x coordinate of eye centre\n",
    "# second column represents y coordinate of eye centre\n",
    "# third column represents x coordinate of target point\n",
    "# fourth column represents y coordinate of target point\n",
    "# here I use 3 random examples just for experimentation\n",
    "# the original data needs to be stored in the required directory in .txt form separated with commas"
   ]
  },
  {
   "cell_type": "code",
   "execution_count": 22,
   "metadata": {},
   "outputs": [],
   "source": [
    "X = data[:,[0,1]]\n"
   ]
  },
  {
   "cell_type": "code",
   "execution_count": 23,
   "metadata": {},
   "outputs": [],
   "source": [
    "y1 = data[:,2]\n",
    "y2 = data[:,3]"
   ]
  },
  {
   "cell_type": "code",
   "execution_count": 26,
   "metadata": {},
   "outputs": [
    {
     "data": {
      "text/plain": [
       "(49, 5)"
      ]
     },
     "execution_count": 26,
     "metadata": {},
     "output_type": "execute_result"
    }
   ],
   "source": [
    "from sklearn.preprocessing import PolynomialFeatures\n",
    "poly_features = PolynomialFeatures(degree=2,include_bias=False)\n",
    "X_poly = poly_features.fit_transform(X)\n",
    "X_poly.shape"
   ]
  },
  {
   "cell_type": "code",
   "execution_count": 27,
   "metadata": {},
   "outputs": [],
   "source": [
    "def normalize(data):\n",
    "    mean = data.mean(axis=0)\n",
    "    std = data.std(axis=0)\n",
    "    data = (data-mean)/std\n",
    "    return data,mean,std"
   ]
  },
  {
   "cell_type": "code",
   "execution_count": 28,
   "metadata": {},
   "outputs": [],
   "source": [
    "X_poly_norm,mean,std = normalize(X_poly)"
   ]
  },
  {
   "cell_type": "code",
   "execution_count": 29,
   "metadata": {},
   "outputs": [
    {
     "data": {
      "text/plain": [
       "LinearRegression(copy_X=True, fit_intercept=True, n_jobs=None, normalize=False)"
      ]
     },
     "execution_count": 29,
     "metadata": {},
     "output_type": "execute_result"
    }
   ],
   "source": [
    "from sklearn.linear_model import LinearRegression\n",
    "lin_reg1 = LinearRegression()\n",
    "lin_reg1.fit(X_poly_norm,y1)\n",
    "lin_reg2 = LinearRegression()\n",
    "lin_reg2.fit(X_poly_norm,y2)"
   ]
  },
  {
   "cell_type": "code",
   "execution_count": 30,
   "metadata": {},
   "outputs": [],
   "source": [
    "file_path_test = '/home/shrey/Desktop/eye_centre/eye_data/data/m_data.txt'\n",
    "data_test = genfromtxt(file_path_test,delimiter=',')\n",
    "X_new = data_test[:,[0,1]]\n",
    "y1_new = data_test[:,2]\n",
    "y2_new = data_test[:,3]\n",
    "X_new_poly = poly_features.fit_transform(X_new)\n",
    "X_new_poly_norm = (X_new_poly - mean)/std"
   ]
  },
  {
   "cell_type": "code",
   "execution_count": 43,
   "metadata": {},
   "outputs": [
    {
     "data": {
      "text/plain": [
       "[1.2085152344947403,\n",
       " -1.7859466158335522,\n",
       " -5.5198054023455825,\n",
       " -5.807237712526785,\n",
       " -14.62123445743157,\n",
       " 1.4846992305562026,\n",
       " -10.948605086086673,\n",
       " 5.9065154911338595,\n",
       " 9.571312191950824,\n",
       " 6.1085220608495945,\n",
       " 4.821750618895976,\n",
       " 1.8655999767427147,\n",
       " 5.112856351321739,\n",
       " -3.004387437185642,\n",
       " 5.720316254058162,\n",
       " 4.963117184406599,\n",
       " -0.29812120620979954,\n",
       " 7.339999191320317,\n",
       " -4.361071368624806,\n",
       " -5.525874070476618,\n",
       " -2.839513170443979,\n",
       " 9.649300986189814,\n",
       " 13.119307294316684,\n",
       " 4.44201928753057,\n",
       " 5.899876221426638,\n",
       " -2.186653290879633,\n",
       " 8.303326284766285,\n",
       " -7.205148133789407,\n",
       " 2.2711530174056236,\n",
       " 4.271164580278651,\n",
       " -4.851361091522051,\n",
       " 2.562909559941886,\n",
       " -5.816713128718504,\n",
       " -4.985338608430197,\n",
       " -8.01617932686841,\n",
       " -6.554768648877086,\n",
       " -8.770615848229852,\n",
       " 3.5775801407465906,\n",
       " -1.684182973679242,\n",
       " 7.107976230007239,\n",
       " -9.609508281884018,\n",
       " -7.53808320897582,\n",
       " 0.6812354666164993,\n",
       " 4.303326284766285,\n",
       " -11.282865633747633,\n",
       " -4.936941662410135,\n",
       " 4.12091632239796,\n",
       " 6.94594500349379,\n",
       " 6.790915899561583]"
      ]
     },
     "execution_count": 43,
     "metadata": {},
     "output_type": "execute_result"
    }
   ],
   "source": [
    "diff1 = lin_reg1.predict(X_new_poly_norm)-y1_new\n",
    "list(diff1)"
   ]
  },
  {
   "cell_type": "code",
   "execution_count": 37,
   "metadata": {},
   "outputs": [
    {
     "data": {
      "text/plain": [
       "-16.06564721034721"
      ]
     },
     "execution_count": 37,
     "metadata": {},
     "output_type": "execute_result"
    }
   ],
   "source": [
    "diff2 = lin_reg2.predict(X_new_poly_norm)-y2_new\n",
    "diff2.min()"
   ]
  },
  {
   "cell_type": "code",
   "execution_count": 38,
   "metadata": {},
   "outputs": [
    {
     "data": {
      "text/plain": [
       "63.700579413562814"
      ]
     },
     "execution_count": 38,
     "metadata": {},
     "output_type": "execute_result"
    }
   ],
   "source": [
    "(diff1**2).sum()/32"
   ]
  },
  {
   "cell_type": "code",
   "execution_count": 39,
   "metadata": {},
   "outputs": [
    {
     "data": {
      "text/plain": [
       "147.50405320612617"
      ]
     },
     "execution_count": 39,
     "metadata": {},
     "output_type": "execute_result"
    }
   ],
   "source": [
    "(diff2**2).sum()/32"
   ]
  },
  {
   "cell_type": "code",
   "execution_count": 40,
   "metadata": {},
   "outputs": [
    {
     "data": {
      "text/plain": [
       "(245.42857142857133,\n",
       " array([-139.87500613,   29.26892165,   64.47940435,  -38.07713366,\n",
       "          38.02797436]))"
      ]
     },
     "execution_count": 40,
     "metadata": {},
     "output_type": "execute_result"
    }
   ],
   "source": [
    "lin_reg1.intercept_,lin_reg1.coef_"
   ]
  },
  {
   "cell_type": "code",
   "execution_count": 41,
   "metadata": {},
   "outputs": [
    {
     "data": {
      "text/plain": [
       "(384.28571428571433,\n",
       " array([133.55804652,  95.03445969, -76.94758177, -12.50468933,\n",
       "          8.64054918]))"
      ]
     },
     "execution_count": 41,
     "metadata": {},
     "output_type": "execute_result"
    }
   ],
   "source": [
    "lin_reg2.intercept_,lin_reg2.coef_"
   ]
  },
  {
   "cell_type": "code",
   "execution_count": null,
   "metadata": {},
   "outputs": [],
   "source": []
  }
 ],
 "metadata": {
  "kernelspec": {
   "display_name": "Python 3",
   "language": "python",
   "name": "python3"
  },
  "language_info": {
   "codemirror_mode": {
    "name": "ipython",
    "version": 3
   },
   "file_extension": ".py",
   "mimetype": "text/x-python",
   "name": "python",
   "nbconvert_exporter": "python",
   "pygments_lexer": "ipython3",
   "version": "3.6.9"
  }
 },
 "nbformat": 4,
 "nbformat_minor": 4
}
