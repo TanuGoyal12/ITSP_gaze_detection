{
 "cells": [
  {
   "cell_type": "code",
   "execution_count": 26,
   "metadata": {},
   "outputs": [],
   "source": [
    "base_dir = '/home/shrey/Desktop/keras_ml/datasets/eye_gestures_grey/'\n",
    "train_dir = base_dir + 'train/'\n",
    "validation_dir = base_dir + 'valid/'\n",
    "test_dir = base_dir + 'test/'"
   ]
  },
  {
   "cell_type": "code",
   "execution_count": 27,
   "metadata": {},
   "outputs": [],
   "source": [
    "from keras.models import Sequential\n",
    "from keras.layers import Dense, Dropout, Activation, Flatten\n",
    "from keras.layers import Conv2D, MaxPooling2D, ZeroPadding2D\n",
    "from keras.optimizers import SGD,RMSprop,adam\n",
    "from keras.utils import np_utils"
   ]
  },
  {
   "cell_type": "code",
   "execution_count": 28,
   "metadata": {},
   "outputs": [],
   "source": [
    "from keras import backend as K\n",
    "import tensorflow"
   ]
  },
  {
   "cell_type": "code",
   "execution_count": 29,
   "metadata": {},
   "outputs": [],
   "source": [
    "import numpy as np\n",
    "import os\n",
    "from PIL import Image\n",
    "import matplotlib\n",
    "from matplotlib import pyplot as plt"
   ]
  },
  {
   "cell_type": "code",
   "execution_count": 30,
   "metadata": {},
   "outputs": [
    {
     "name": "stdout",
     "output_type": "stream",
     "text": [
      "Model: \"sequential_3\"\n",
      "_________________________________________________________________\n",
      "Layer (type)                 Output Shape              Param #   \n",
      "=================================================================\n",
      "conv2d_5 (Conv2D)            (None, 98, 98, 4)         40        \n",
      "_________________________________________________________________\n",
      "max_pooling2d_5 (MaxPooling2 (None, 49, 49, 4)         0         \n",
      "_________________________________________________________________\n",
      "conv2d_6 (Conv2D)            (None, 47, 47, 8)         296       \n",
      "_________________________________________________________________\n",
      "max_pooling2d_6 (MaxPooling2 (None, 23, 23, 8)         0         \n",
      "_________________________________________________________________\n",
      "conv2d_7 (Conv2D)            (None, 21, 21, 16)        1168      \n",
      "_________________________________________________________________\n",
      "max_pooling2d_7 (MaxPooling2 (None, 10, 10, 16)        0         \n",
      "_________________________________________________________________\n",
      "flatten_3 (Flatten)          (None, 1600)              0         \n",
      "_________________________________________________________________\n",
      "dense_3 (Dense)              (None, 1)                 1601      \n",
      "=================================================================\n",
      "Total params: 3,105\n",
      "Trainable params: 3,105\n",
      "Non-trainable params: 0\n",
      "_________________________________________________________________\n"
     ]
    }
   ],
   "source": [
    "model = Sequential()\n",
    "model.add(Conv2D(4,(3, 3), activation='relu',input_shape=(100, 100, 1)))\n",
    "model.add(MaxPooling2D((2, 2)))\n",
    "model.add(Conv2D(8,(3, 3), activation='relu'))\n",
    "model.add(MaxPooling2D((2, 2)))\n",
    "model.add(Conv2D(16,(3, 3), activation='relu'))\n",
    "model.add(MaxPooling2D((2, 2)))\n",
    "model.add(Flatten())\n",
    "model.add(Dense(1, activation='sigmoid'))\n",
    "model.summary()"
   ]
  },
  {
   "cell_type": "code",
   "execution_count": 31,
   "metadata": {},
   "outputs": [],
   "source": [
    "from keras.preprocessing.image import ImageDataGenerator\n",
    "train_datagen = ImageDataGenerator(rescale=1./255,\n",
    "                                  rotation_range=40,\n",
    "                                  width_shift_range=0.2,\n",
    "                                  height_shift_range=0.2,\n",
    "                                  shear_range=0.2,\n",
    "                                  zoom_range=0.2,\n",
    "                                  horizontal_flip=True)\n",
    "test_datagen = ImageDataGenerator(rescale=1./255)"
   ]
  },
  {
   "cell_type": "code",
   "execution_count": 32,
   "metadata": {},
   "outputs": [
    {
     "name": "stdout",
     "output_type": "stream",
     "text": [
      "Found 3076 images belonging to 2 classes.\n"
     ]
    }
   ],
   "source": [
    "train_generator = train_datagen.flow_from_directory(\n",
    "train_dir,\n",
    "color_mode='grayscale',\n",
    "target_size=(100,100),\n",
    "batch_size=128,\n",
    "class_mode='binary')"
   ]
  },
  {
   "cell_type": "code",
   "execution_count": 33,
   "metadata": {},
   "outputs": [
    {
     "name": "stdout",
     "output_type": "stream",
     "text": [
      "Found 767 images belonging to 2 classes.\n"
     ]
    }
   ],
   "source": [
    "validation_generator = test_datagen.flow_from_directory(\n",
    "validation_dir,\n",
    "color_mode='grayscale',\n",
    "target_size=(100,100),\n",
    "batch_size=128,\n",
    "class_mode='binary')"
   ]
  },
  {
   "cell_type": "code",
   "execution_count": 34,
   "metadata": {},
   "outputs": [],
   "source": [
    "model.compile(loss='binary_crossentropy',optimizer=RMSprop(lr=1e-3),metrics=['accuracy'])"
   ]
  },
  {
   "cell_type": "code",
   "execution_count": 35,
   "metadata": {},
   "outputs": [
    {
     "name": "stdout",
     "output_type": "stream",
     "text": [
      "Epoch 1/20\n",
      "100/100 [==============================] - 70s 696ms/step - loss: 0.6031 - accuracy: 0.6290 - val_loss: 0.4353 - val_accuracy: 0.6264\n",
      "Epoch 2/20\n",
      "100/100 [==============================] - 65s 654ms/step - loss: 0.3938 - accuracy: 0.8387 - val_loss: 0.1438 - val_accuracy: 1.0000\n",
      "Epoch 3/20\n",
      "100/100 [==============================] - 66s 665ms/step - loss: 0.2242 - accuracy: 0.9316 - val_loss: 0.0469 - val_accuracy: 1.0000\n",
      "Epoch 4/20\n",
      "100/100 [==============================] - 66s 657ms/step - loss: 0.1573 - accuracy: 0.9532 - val_loss: 0.0269 - val_accuracy: 1.0000\n",
      "Epoch 5/20\n",
      "100/100 [==============================] - 66s 656ms/step - loss: 0.1218 - accuracy: 0.9600 - val_loss: 0.0292 - val_accuracy: 0.9977\n",
      "Epoch 6/20\n",
      "100/100 [==============================] - 66s 662ms/step - loss: 0.1112 - accuracy: 0.9690 - val_loss: 0.0208 - val_accuracy: 0.9987\n",
      "Epoch 7/20\n",
      "100/100 [==============================] - 69s 693ms/step - loss: 0.0961 - accuracy: 0.9703 - val_loss: 0.0151 - val_accuracy: 0.9987\n",
      "Epoch 8/20\n",
      "100/100 [==============================] - 68s 681ms/step - loss: 0.1066 - accuracy: 0.9694 - val_loss: 0.0205 - val_accuracy: 0.9987\n",
      "Epoch 9/20\n",
      "100/100 [==============================] - 67s 667ms/step - loss: 0.0854 - accuracy: 0.9729 - val_loss: 0.0104 - val_accuracy: 0.9986\n",
      "Epoch 10/20\n",
      "100/100 [==============================] - 66s 655ms/step - loss: 0.0883 - accuracy: 0.9729 - val_loss: 0.0091 - val_accuracy: 1.0000\n",
      "Epoch 11/20\n",
      "100/100 [==============================] - 67s 668ms/step - loss: 0.0927 - accuracy: 0.9733 - val_loss: 0.0124 - val_accuracy: 0.9989\n",
      "Epoch 12/20\n",
      "100/100 [==============================] - 66s 662ms/step - loss: 0.0952 - accuracy: 0.9744 - val_loss: 0.0074 - val_accuracy: 1.0000\n",
      "Epoch 13/20\n",
      "100/100 [==============================] - 65s 648ms/step - loss: 0.0827 - accuracy: 0.9746 - val_loss: 0.0302 - val_accuracy: 0.9986\n",
      "Epoch 14/20\n",
      "100/100 [==============================] - 68s 676ms/step - loss: 0.0860 - accuracy: 0.9738 - val_loss: 0.0067 - val_accuracy: 1.0000\n",
      "Epoch 15/20\n",
      "100/100 [==============================] - 69s 685ms/step - loss: 0.0702 - accuracy: 0.9781 - val_loss: 0.0097 - val_accuracy: 0.9987\n",
      "Epoch 16/20\n",
      "100/100 [==============================] - 67s 673ms/step - loss: 0.0856 - accuracy: 0.9755 - val_loss: 0.0203 - val_accuracy: 1.0000\n",
      "Epoch 17/20\n",
      "100/100 [==============================] - 67s 670ms/step - loss: 0.0729 - accuracy: 0.9772 - val_loss: 0.0072 - val_accuracy: 0.9986\n",
      "Epoch 18/20\n",
      "100/100 [==============================] - 68s 684ms/step - loss: 0.0898 - accuracy: 0.9770 - val_loss: 0.0094 - val_accuracy: 1.0000\n",
      "Epoch 19/20\n",
      "100/100 [==============================] - 67s 672ms/step - loss: 0.0673 - accuracy: 0.9781 - val_loss: 0.0141 - val_accuracy: 1.0000\n",
      "Epoch 20/20\n",
      "100/100 [==============================] - 67s 672ms/step - loss: 0.0709 - accuracy: 0.9796 - val_loss: 0.0045 - val_accuracy: 1.0000\n"
     ]
    }
   ],
   "source": [
    "history = model.fit_generator(train_generator,\n",
    "                              steps_per_epoch=100,\n",
    "                              epochs=20,\n",
    "                              validation_data=validation_generator,\n",
    "                              validation_steps=50)"
   ]
  },
  {
   "cell_type": "code",
   "execution_count": 36,
   "metadata": {},
   "outputs": [],
   "source": [
    "model.save('eye_gestures_grey4.h5')"
   ]
  },
  {
   "cell_type": "code",
   "execution_count": 37,
   "metadata": {},
   "outputs": [
    {
     "data": {
      "image/png": "[encoded data removed]",
      "text/plain": [
       "<Figure size 432x288 with 1 Axes>"
      ]
     },
     "metadata": {
      "needs_background": "light"
     },
     "output_type": "display_data"
    },
    {
     "data": {
      "image/png": "[encoded data removed]",
      "text/plain": [
       "<Figure size 432x288 with 1 Axes>"
      ]
     },
     "metadata": {
      "needs_background": "light"
     },
     "output_type": "display_data"
    }
   ],
   "source": [
    "acc = history.history['accuracy']\n",
    "val_acc = history.history['val_accuracy']\n",
    "loss = history.history['loss']\n",
    "val_loss = history.history['val_loss']\n",
    "epochs = range(1, len(acc) + 1)\n",
    "plt.plot(epochs, acc, 'bo', label='Training acc')\n",
    "plt.plot(epochs, val_acc, 'b', label='Validation acc')\n",
    "plt.title('Training and validation accuracy')\n",
    "plt.legend()\n",
    "plt.figure()\n",
    "plt.plot(epochs, loss, 'bo', label='Training loss')\n",
    "plt.plot(epochs, val_loss, 'b', label='Validation loss')\n",
    "plt.title('Training and validation loss')\n",
    "plt.legend()\n",
    "plt.show()\n"
   ]
  },
  {
   "cell_type": "code",
   "execution_count": 38,
   "metadata": {},
   "outputs": [
    {
     "data": {
      "text/plain": [
       "array([[0.01265619]], dtype=float32)"
      ]
     },
     "execution_count": 38,
     "metadata": {},
     "output_type": "execute_result"
    }
   ],
   "source": [
    "from keras.preprocessing import image\n",
    "import cv2\n",
    "img_path = '/home/shrey/Desktop/keras_ml/datasets/eye_gestures_grey/train/closed/image0.jpg'\n",
    "img = cv2.imread(img_path,0)\n",
    "img = cv2.resize(img,(100,100),cv2.INTER_AREA)\n",
    "#img = resized[:,:,0]\n",
    "img = np.expand_dims(img,axis=-1)\n",
    "img = np.expand_dims(img,axis=0)\n",
    "img = img/255\n",
    "model.predict(img)"
   ]
  },
  {
   "cell_type": "code",
   "execution_count": null,
   "metadata": {},
   "outputs": [],
   "source": []
  }
 ],
 "metadata": {
  "kernelspec": {
   "display_name": "Python 3",
   "language": "python",
   "name": "python3"
  },
  "language_info": {
   "codemirror_mode": {
    "name": "ipython",
    "version": 3
   },
   "file_extension": ".py",
   "mimetype": "text/x-python",
   "name": "python",
   "nbconvert_exporter": "python",
   "pygments_lexer": "ipython3",
   "version": "3.7.6"
  }
 },
 "nbformat": 4,
 "nbformat_minor": 4
}
