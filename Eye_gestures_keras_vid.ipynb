{
 "cells": [
  {
   "cell_type": "code",
   "execution_count": 16,
   "metadata": {},
   "outputs": [],
   "source": [
    "import numpy as np\n",
    "import cv2\n",
    "from keras.models import load_model"
   ]
  },
  {
   "cell_type": "code",
   "execution_count": 17,
   "metadata": {},
   "outputs": [],
   "source": [
    "model = load_model('eye_gestures_grey2.h5')"
   ]
  },
  {
   "cell_type": "code",
   "execution_count": 18,
   "metadata": {},
   "outputs": [],
   "source": [
    "vid_path = \"/home/shrey/Desktop/final.avi\"\n",
    "target_path = \"/home/shrey/Desktop/final_test.avi\"\n",
    "cap = cv2.VideoCapture(vid_path)\n",
    "font = cv2.FONT_HERSHEY_SIMPLEX\n",
    "fourcc = cv2.VideoWriter_fourcc(*'XVID')\n",
    "out = cv2.VideoWriter(target_path,fourcc,20.0,(480,540))\n",
    "while cap.isOpened():\n",
    "    ret,frame = cap.read()\n",
    "    if ret == True:\n",
    "        if cv2.waitKey(40) == ord('q'):\n",
    "            break\n",
    "        #frame2 = frame.transpose((1,0,2))\n",
    "        frame2 = frame[100:]\n",
    "        img = cv2.rotate(frame,cv2.ROTATE_90_COUNTERCLOCKWISE)\n",
    "        img = cv2.cvtColor(img,cv2.COLOR_BGR2GRAY)\n",
    "        img = cv2.resize(img,(100,100),cv2.INTER_AREA)\n",
    "        img = img/255;\n",
    "        img = np.expand_dims(img,axis=0)\n",
    "        img = np.expand_dims(img,axis=-1)\n",
    "        p = model.predict(img)\n",
    "        #print(p)\n",
    "        if p<0.5:\n",
    "            cv2.putText(frame2,'closed',(50,100),font,3,(0,0,255),3)\n",
    "        else:\n",
    "            cv2.putText(frame2,'open',(50,100),font,3,(0,0,255),3)\n",
    "        cv2.imshow('frame',frame2)\n",
    "        out.write(frame2)\n",
    "    else:\n",
    "        break\n",
    "cap.release()\n",
    "cv2.destroyAllWindows()"
   ]
  },
  {
   "cell_type": "code",
   "execution_count": null,
   "metadata": {},
   "outputs": [],
   "source": []
  }
 ],
 "metadata": {
  "kernelspec": {
   "display_name": "Python 3",
   "language": "python",
   "name": "python3"
  },
  "language_info": {
   "codemirror_mode": {
    "name": "ipython",
    "version": 3
   },
   "file_extension": ".py",
   "mimetype": "text/x-python",
   "name": "python",
   "nbconvert_exporter": "python",
   "pygments_lexer": "ipython3",
   "version": "3.7.6"
  }
 },
 "nbformat": 4,
 "nbformat_minor": 4
}
