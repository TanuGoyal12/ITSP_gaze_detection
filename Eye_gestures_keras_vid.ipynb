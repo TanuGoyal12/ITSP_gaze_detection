{
 "cells": [
  {
   "cell_type": "code",
   "execution_count": 16,
   "metadata": {},
   "outputs": [],
   "source": [
    "import numpy as np\n",
    "import cv2\n",
    "from keras.models import load_model"
   ]
  },
  {
   "cell_type": "code",
   "execution_count": 17,
   "metadata": {},
   "outputs": [],
   "source": [
    "model = load_model('eye_gestures.h5')"
   ]
  },
  {
   "cell_type": "code",
   "execution_count": 18,
   "metadata": {},
   "outputs": [],
   "source": [
    "cap = cv2.VideoCapture(\"/home/shrey/Desktop/eye_centre/final_test.avi\")\n",
    "font = cv2.FONT_HERSHEY_SIMPLEX\n",
    "while cap.isOpened():\n",
    "    ret,frame = cap.read()\n",
    "    if ret == True:\n",
    "        if cv2.waitKey(10) == ord('q'):\n",
    "            break\n",
    "        frame2 = frame.transpose((1,0,2))\n",
    "        img = cv2.cvtColor(frame2,cv2.COLOR_BGR2RGB)\n",
    "        img = cv2.resize(img,(100,100),cv2.INTER_AREA)\n",
    "        img = img/255;\n",
    "        img = np.expand_dims(img,axis=0)\n",
    "        p = model.predict(img)\n",
    "        #print(p)\n",
    "        if p<0.5:\n",
    "            cv2.putText(frame,'closed',(50,100),font,3,(0,0,255),3)\n",
    "        else:\n",
    "            cv2.putText(frame,'open',(50,100),font,3,(0,0,255),3)\n",
    "        cv2.imshow('frame',frame)\n",
    "    else:\n",
    "        break\n",
    "cap.release()\n",
    "cv2.destroyAllWindows()"
   ]
  },
  {
   "cell_type": "code",
   "execution_count": null,
   "metadata": {},
   "outputs": [],
   "source": []
  }
 ],
 "metadata": {
  "kernelspec": {
   "display_name": "Python 3",
   "language": "python",
   "name": "python3"
  },
  "language_info": {
   "codemirror_mode": {
    "name": "ipython",
    "version": 3
   },
   "file_extension": ".py",
   "mimetype": "text/x-python",
   "name": "python",
   "nbconvert_exporter": "python",
   "pygments_lexer": "ipython3",
   "version": "3.7.6"
  }
 },
 "nbformat": 4,
 "nbformat_minor": 4
}
